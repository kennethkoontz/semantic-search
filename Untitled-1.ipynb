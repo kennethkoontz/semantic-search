{
 "cells": [
  {
   "attachments": {},
   "cell_type": "markdown",
   "metadata": {},
   "source": [
    "### Semantic Search Demonstration\n",
    "The following code demonstrates semantic search by using embeddings and cosign similarity. "
   ]
  },
  {
   "attachments": {},
   "cell_type": "markdown",
   "metadata": {},
   "source": [
    "The following code reads a csv that contains ChatGPT generated (fake) student memoirs. Each row represents a memoir.\n",
    "\n",
    "For every memoir we generate an embedding vector which is then used later to compare similarity towards a search term."
   ]
  },
  {
   "cell_type": "code",
   "execution_count": 41,
   "metadata": {},
   "outputs": [
    {
     "data": {
      "text/html": [
       "<div>\n",
       "<style scoped>\n",
       "    .dataframe tbody tr th:only-of-type {\n",
       "        vertical-align: middle;\n",
       "    }\n",
       "\n",
       "    .dataframe tbody tr th {\n",
       "        vertical-align: top;\n",
       "    }\n",
       "\n",
       "    .dataframe thead th {\n",
       "        text-align: right;\n",
       "    }\n",
       "</style>\n",
       "<table border=\"1\" class=\"dataframe\">\n",
       "  <thead>\n",
       "    <tr style=\"text-align: right;\">\n",
       "      <th></th>\n",
       "      <th>text</th>\n",
       "      <th>embedding</th>\n",
       "    </tr>\n",
       "  </thead>\n",
       "  <tbody>\n",
       "    <tr>\n",
       "      <th>0</th>\n",
       "      <td>I wake up early, feeling exhausted from stayin...</td>\n",
       "      <td>[-0.0035102476831525564, -0.003641922259703278...</td>\n",
       "    </tr>\n",
       "    <tr>\n",
       "      <th>1</th>\n",
       "      <td>I wake up feeling anxious about a test I have ...</td>\n",
       "      <td>[-0.019288772717118263, 0.014115586876869202, ...</td>\n",
       "    </tr>\n",
       "    <tr>\n",
       "      <th>2</th>\n",
       "      <td>I wake up early, excited to go to school. In c...</td>\n",
       "      <td>[0.011736449785530567, 0.009439075365662575, 0...</td>\n",
       "    </tr>\n",
       "    <tr>\n",
       "      <th>3</th>\n",
       "      <td>I wake up and feel a sense of dread about goin...</td>\n",
       "      <td>[0.005431780591607094, -0.005482162348926067, ...</td>\n",
       "    </tr>\n",
       "    <tr>\n",
       "      <th>4</th>\n",
       "      <td>I wake up early and have a healthy breakfast b...</td>\n",
       "      <td>[0.0019850502721965313, 0.009323081001639366, ...</td>\n",
       "    </tr>\n",
       "    <tr>\n",
       "      <th>5</th>\n",
       "      <td>I wake up late and barely make it to school on...</td>\n",
       "      <td>[-0.0013890566769987345, 0.013013100251555443,...</td>\n",
       "    </tr>\n",
       "    <tr>\n",
       "      <th>6</th>\n",
       "      <td>I wake up feeling grateful for another day. At...</td>\n",
       "      <td>[0.0038523832336068153, -0.002531841630116105,...</td>\n",
       "    </tr>\n",
       "    <tr>\n",
       "      <th>7</th>\n",
       "      <td>I wake up early and work out before heading to...</td>\n",
       "      <td>[-0.008601831272244453, 0.007503862958401442, ...</td>\n",
       "    </tr>\n",
       "  </tbody>\n",
       "</table>\n",
       "</div>"
      ],
      "text/plain": [
       "                                                text                                          embedding\n",
       "0  I wake up early, feeling exhausted from stayin...  [-0.0035102476831525564, -0.003641922259703278...\n",
       "1  I wake up feeling anxious about a test I have ...  [-0.019288772717118263, 0.014115586876869202, ...\n",
       "2  I wake up early, excited to go to school. In c...  [0.011736449785530567, 0.009439075365662575, 0...\n",
       "3  I wake up and feel a sense of dread about goin...  [0.005431780591607094, -0.005482162348926067, ...\n",
       "4  I wake up early and have a healthy breakfast b...  [0.0019850502721965313, 0.009323081001639366, ...\n",
       "5  I wake up late and barely make it to school on...  [-0.0013890566769987345, 0.013013100251555443,...\n",
       "6  I wake up feeling grateful for another day. At...  [0.0038523832336068153, -0.002531841630116105,...\n",
       "7  I wake up early and work out before heading to...  [-0.008601831272244453, 0.007503862958401442, ..."
      ]
     },
     "execution_count": 41,
     "metadata": {},
     "output_type": "execute_result"
    }
   ],
   "source": [
    "import openai\n",
    "import pandas as pd\n",
    "import os\n",
    "\n",
    "from openai.embeddings_utils import get_embedding\n",
    "\n",
    "from dotenv import load_dotenv\n",
    "load_dotenv()\n",
    "\n",
    "openai.api_key = os.environ.get(\"OPENAI_API_KEY\")\n",
    "\n",
    "df = pd.read_csv('memoirs.csv')\n",
    "df['embedding'] = df['text'].apply(lambda x: get_embedding(x, engine=\"text-embedding-ada-002\"))\n",
    "df.to_csv('word_embeddings.csv')\n",
    "\n",
    "df"
   ]
  },
  {
   "attachments": {},
   "cell_type": "markdown",
   "metadata": {},
   "source": [
    "With embeddings created for each memoir, we can now compare each for similarity against a search embedding."
   ]
  },
  {
   "cell_type": "code",
   "execution_count": 42,
   "metadata": {},
   "outputs": [
    {
     "name": "stdout",
     "output_type": "stream",
     "text": [
      "Most similar text:  I wake up feeling anxious about a test I have later in the day. During classes, I can't focus on anything else, and I feel like I'm going to fail. After school, I go home and study for hours, even though I know it won't make a difference. In the evening, I cry myself to sleep, worried about my grades.\n"
     ]
    },
    {
     "data": {
      "text/html": [
       "<div>\n",
       "<style scoped>\n",
       "    .dataframe tbody tr th:only-of-type {\n",
       "        vertical-align: middle;\n",
       "    }\n",
       "\n",
       "    .dataframe tbody tr th {\n",
       "        vertical-align: top;\n",
       "    }\n",
       "\n",
       "    .dataframe thead th {\n",
       "        text-align: right;\n",
       "    }\n",
       "</style>\n",
       "<table border=\"1\" class=\"dataframe\">\n",
       "  <thead>\n",
       "    <tr style=\"text-align: right;\">\n",
       "      <th></th>\n",
       "      <th>text</th>\n",
       "      <th>embedding</th>\n",
       "      <th>similar</th>\n",
       "    </tr>\n",
       "  </thead>\n",
       "  <tbody>\n",
       "    <tr>\n",
       "      <th>1</th>\n",
       "      <td>I wake up feeling anxious about a test I have ...</td>\n",
       "      <td>[-0.019288772717118263, 0.014115586876869202, ...</td>\n",
       "      <td>0.851096</td>\n",
       "    </tr>\n",
       "    <tr>\n",
       "      <th>3</th>\n",
       "      <td>I wake up and feel a sense of dread about goin...</td>\n",
       "      <td>[0.005431780591607094, -0.005482162348926067, ...</td>\n",
       "      <td>0.829775</td>\n",
       "    </tr>\n",
       "    <tr>\n",
       "      <th>2</th>\n",
       "      <td>I wake up early, excited to go to school. In c...</td>\n",
       "      <td>[0.011736449785530567, 0.009439075365662575, 0...</td>\n",
       "      <td>0.785964</td>\n",
       "    </tr>\n",
       "    <tr>\n",
       "      <th>0</th>\n",
       "      <td>I wake up early, feeling exhausted from stayin...</td>\n",
       "      <td>[-0.0035102476831525564, -0.003641922259703278...</td>\n",
       "      <td>0.782036</td>\n",
       "    </tr>\n",
       "    <tr>\n",
       "      <th>5</th>\n",
       "      <td>I wake up late and barely make it to school on...</td>\n",
       "      <td>[-0.0013890566769987345, 0.013013100251555443,...</td>\n",
       "      <td>0.775874</td>\n",
       "    </tr>\n",
       "    <tr>\n",
       "      <th>6</th>\n",
       "      <td>I wake up feeling grateful for another day. At...</td>\n",
       "      <td>[0.0038523832336068153, -0.002531841630116105,...</td>\n",
       "      <td>0.774149</td>\n",
       "    </tr>\n",
       "    <tr>\n",
       "      <th>4</th>\n",
       "      <td>I wake up early and have a healthy breakfast b...</td>\n",
       "      <td>[0.0019850502721965313, 0.009323081001639366, ...</td>\n",
       "      <td>0.768053</td>\n",
       "    </tr>\n",
       "    <tr>\n",
       "      <th>7</th>\n",
       "      <td>I wake up early and work out before heading to...</td>\n",
       "      <td>[-0.008601831272244453, 0.007503862958401442, ...</td>\n",
       "      <td>0.766041</td>\n",
       "    </tr>\n",
       "  </tbody>\n",
       "</table>\n",
       "</div>"
      ],
      "text/plain": [
       "                                                text  ...   similar\n",
       "1  I wake up feeling anxious about a test I have ...  ...  0.851096\n",
       "3  I wake up and feel a sense of dread about goin...  ...  0.829775\n",
       "2  I wake up early, excited to go to school. In c...  ...  0.785964\n",
       "0  I wake up early, feeling exhausted from stayin...  ...  0.782036\n",
       "5  I wake up late and barely make it to school on...  ...  0.775874\n",
       "6  I wake up feeling grateful for another day. At...  ...  0.774149\n",
       "4  I wake up early and have a healthy breakfast b...  ...  0.768053\n",
       "7  I wake up early and work out before heading to...  ...  0.766041\n",
       "\n",
       "[8 rows x 3 columns]"
      ]
     },
     "execution_count": 42,
     "metadata": {},
     "output_type": "execute_result"
    }
   ],
   "source": [
    "import pandas as pd\n",
    "from openai.embeddings_utils import get_embedding, cosine_similarity\n",
    "\n",
    "search_term_embedding = get_embedding('Which students are anxious and worried?', engine=\"text-embedding-ada-002\")\n",
    "\n",
    "df['similar'] = df.embedding.apply(lambda x: cosine_similarity(x, search_term_embedding))\n",
    "sorted = df.sort_values('similar', ascending=False)\n",
    "text = df.iloc[1]['text']\n",
    "\n",
    "print(\"Most similar text: \", text)\n",
    "sorted"
   ]
  },
  {
   "attachments": {},
   "cell_type": "markdown",
   "metadata": {},
   "source": [
    "Using the search prompt \"Which students are anxious and worried?\", we've identified a memoir that contains similarities — 0.851096.\n",
    "\n",
    "With the text being:\n",
    "\n",
    "I wake up feeling anxious about a test I have later in the day. During classes, I can't focus on anything else, and I feel like I'm going to fail. After school, I go home and study for hours, even though I know it won't make a difference. In the evening, I cry myself to sleep, worried about my grades."
   ]
  },
  {
   "cell_type": "code",
   "execution_count": null,
   "metadata": {},
   "outputs": [],
   "source": []
  }
 ],
 "metadata": {
  "kernelspec": {
   "display_name": "Python 3",
   "language": "python",
   "name": "python3"
  },
  "language_info": {
   "codemirror_mode": {
    "name": "ipython",
    "version": 3
   },
   "file_extension": ".py",
   "mimetype": "text/x-python",
   "name": "python",
   "nbconvert_exporter": "python",
   "pygments_lexer": "ipython3",
   "version": "3.11.3"
  },
  "orig_nbformat": 4
 },
 "nbformat": 4,
 "nbformat_minor": 2
}
